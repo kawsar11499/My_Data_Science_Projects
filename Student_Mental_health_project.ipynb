{
 "cells": [
  {
   "cell_type": "code",
   "execution_count": 55,
   "metadata": {},
   "outputs": [],
   "source": [
    "import pandas as pd\n",
    "import matplotlib.pyplot as plt\n"
   ]
  },
  {
   "cell_type": "code",
   "execution_count": 56,
   "metadata": {},
   "outputs": [],
   "source": [
    "df = pd.read_csv('Student_Mental_health.csv')"
   ]
  },
  {
   "cell_type": "code",
   "execution_count": 57,
   "metadata": {},
   "outputs": [
    {
     "name": "stdout",
     "output_type": "stream",
     "text": [
      "        Timestamp Choose your gender   Age What is your course?  \\\n",
      "0  8/7/2020 12:02             Female  18.0          Engineering   \n",
      "1  8/7/2020 12:04               Male  21.0    Islamic education   \n",
      "2  8/7/2020 12:05               Male  19.0                  BIT   \n",
      "3  8/7/2020 12:06             Female  22.0                 Laws   \n",
      "4  8/7/2020 12:13               Male  23.0         Mathemathics   \n",
      "5  8/7/2020 12:31               Male  19.0          Engineering   \n",
      "6  8/7/2020 12:32             Female  23.0     Pendidikan islam   \n",
      "7  8/7/2020 12:33             Female  18.0                  BCS   \n",
      "8  8/7/2020 12:35             Female  19.0      Human Resources   \n",
      "9  8/7/2020 12:39               Male  18.0                Irkhs   \n",
      "\n",
      "  Your current year of Study What is your CGPA? Marital status  \\\n",
      "0                     year 1        3.00 - 3.49             No   \n",
      "1                     year 2        3.00 - 3.49             No   \n",
      "2                     Year 1        3.00 - 3.49             No   \n",
      "3                     year 3        3.00 - 3.49            Yes   \n",
      "4                     year 4        3.00 - 3.49             No   \n",
      "5                     Year 2        3.50 - 4.00             No   \n",
      "6                     year 2       3.50 - 4.00             Yes   \n",
      "7                     year 1        3.50 - 4.00             No   \n",
      "8                     Year 2        2.50 - 2.99             No   \n",
      "9                     year 1        3.50 - 4.00             No   \n",
      "\n",
      "  Do you have Depression? Do you have Anxiety? Do you have Panic attack?  \\\n",
      "0                     Yes                   No                       Yes   \n",
      "1                      No                  Yes                        No   \n",
      "2                     Yes                  Yes                       Yes   \n",
      "3                     Yes                   No                        No   \n",
      "4                      No                   No                        No   \n",
      "5                      No                   No                       Yes   \n",
      "6                     Yes                   No                       Yes   \n",
      "7                      No                  Yes                        No   \n",
      "8                      No                   No                        No   \n",
      "9                      No                  Yes                       Yes   \n",
      "\n",
      "  Did you seek any specialist for a treatment?  \n",
      "0                                           No  \n",
      "1                                           No  \n",
      "2                                           No  \n",
      "3                                           No  \n",
      "4                                           No  \n",
      "5                                           No  \n",
      "6                                           No  \n",
      "7                                           No  \n",
      "8                                           No  \n",
      "9                                           No  \n",
      "<class 'pandas.core.frame.DataFrame'>\n",
      "RangeIndex: 101 entries, 0 to 100\n",
      "Data columns (total 11 columns):\n",
      " #   Column                                        Non-Null Count  Dtype  \n",
      "---  ------                                        --------------  -----  \n",
      " 0   Timestamp                                     101 non-null    object \n",
      " 1   Choose your gender                            101 non-null    object \n",
      " 2   Age                                           100 non-null    float64\n",
      " 3   What is your course?                          101 non-null    object \n",
      " 4   Your current year of Study                    101 non-null    object \n",
      " 5   What is your CGPA?                            101 non-null    object \n",
      " 6   Marital status                                101 non-null    object \n",
      " 7   Do you have Depression?                       101 non-null    object \n",
      " 8   Do you have Anxiety?                          101 non-null    object \n",
      " 9   Do you have Panic attack?                     101 non-null    object \n",
      " 10  Did you seek any specialist for a treatment?  101 non-null    object \n",
      "dtypes: float64(1), object(10)\n",
      "memory usage: 8.8+ KB\n"
     ]
    }
   ],
   "source": [
    "print(df.head(10))\n",
    "df.info()\n",
    "# 101 entries - large enough dataset?"
   ]
  },
  {
   "cell_type": "code",
   "execution_count": 58,
   "metadata": {},
   "outputs": [
    {
     "name": "stdout",
     "output_type": "stream",
     "text": [
      "['Engineering' 'Islamic education' 'BIT' 'Laws' 'Mathemathics'\n",
      " 'Pendidikan islam' 'BCS' 'Human Resources' 'Irkhs' 'Psychology' 'KENMS'\n",
      " 'Accounting ' 'ENM' 'Marine science' 'KOE' 'Banking Studies'\n",
      " 'Business Administration' 'Law' 'KIRKHS' 'Usuluddin ' 'TAASL' 'Engine'\n",
      " 'ALA' 'Biomedical science' 'koe' 'Kirkhs' 'BENL' 'Benl' 'IT' 'CTS'\n",
      " 'engin' 'Econs' 'MHSC' 'Malcom' 'Kop' 'Human Sciences ' 'Biotechnology'\n",
      " 'Communication ' 'Diploma Nursing' 'Pendidikan Islam ' 'Radiography'\n",
      " 'psychology' 'Fiqh fatwa ' 'DIPLOMA TESL' 'Koe' 'Fiqh'\n",
      " 'Islamic Education' 'Nursing ' 'Pendidikan Islam']\n"
     ]
    }
   ],
   "source": [
    "# return all the unique course in dataset\n",
    "print(df['What is your course?'].unique())"
   ]
  },
  {
   "cell_type": "code",
   "execution_count": 59,
   "metadata": {},
   "outputs": [
    {
     "name": "stdout",
     "output_type": "stream",
     "text": [
      "What is your course?\n",
      "BCS                        18\n",
      "Engineering                17\n",
      "BIT                        10\n",
      "Biomedical science          4\n",
      "KOE                         4\n",
      "BENL                        2\n",
      "Laws                        2\n",
      "psychology                  2\n",
      "Engine                      2\n",
      "Islamic Education           1\n",
      "Biotechnology               1\n",
      "engin                       1\n",
      "Econs                       1\n",
      "MHSC                        1\n",
      "Malcom                      1\n",
      "Kop                         1\n",
      "Human Sciences              1\n",
      "Communication               1\n",
      "Nursing                     1\n",
      "Diploma Nursing             1\n",
      "IT                          1\n",
      "Pendidikan Islam            1\n",
      "Radiography                 1\n",
      "Fiqh fatwa                  1\n",
      "DIPLOMA TESL                1\n",
      "Koe                         1\n",
      "Fiqh                        1\n",
      "CTS                         1\n",
      "koe                         1\n",
      "Benl                        1\n",
      "Kirkhs                      1\n",
      "Mathemathics                1\n",
      "Pendidikan islam            1\n",
      "Human Resources             1\n",
      "Irkhs                       1\n",
      "Psychology                  1\n",
      "KENMS                       1\n",
      "Accounting                  1\n",
      "ENM                         1\n",
      "Marine science              1\n",
      "Banking Studies             1\n",
      "Business Administration     1\n",
      "Law                         1\n",
      "KIRKHS                      1\n",
      "Usuluddin                   1\n",
      "TAASL                       1\n",
      "ALA                         1\n",
      "Islamic education           1\n",
      "Pendidikan Islam            1\n",
      "Name: count, dtype: int64\n"
     ]
    }
   ],
   "source": [
    "# how many samples (records) for each course?\n",
    "print(df['What is your course?'].value_counts())\n",
    "\n",
    "# some entries same course but different lettering - islamic education/Education\n",
    "# some entries maybe entered wrong by student - student entered name instead of course - Malcom (this must be a name), Usuluddin\n",
    "# how should i clean these wrong entries? use fuzzy matching\n",
    "\n",
    "# 'pendidkan' is the indonesian word for education (these records are same as islamic studies courses), 'fiqh' and 'fiqh fatwa'\n",
    "# also refer to this course?\n",
    "# 'diploma nursing' and 'nursing' same?\n",
    "# 'engin' is engineering?\n",
    "# 'laws' and 'law'\n",
    "# 'kow' and 'Kow' (capital difference, read as different entry by python)\n",
    "\n",
    "# same courses are entered slightly different - this is a key theme in this data\n",
    "# spelling mistakes?\n",
    "\n",
    "# what course does BCS refer to? - check metadata - google search of international islamic university of malaysia reveals it is \n",
    "# bachelor of computer science\n",
    "# what course does BIT refer to? google search reveals bachelor of information technology\n"
   ]
  },
  {
   "cell_type": "code",
   "execution_count": 60,
   "metadata": {},
   "outputs": [
    {
     "name": "stdout",
     "output_type": "stream",
     "text": [
      "101\n"
     ]
    }
   ],
   "source": [
    "# how many records in dataset (sample size?)\n",
    "print(len(df))"
   ]
  },
  {
   "cell_type": "code",
   "execution_count": 61,
   "metadata": {},
   "outputs": [
    {
     "name": "stdout",
     "output_type": "stream",
     "text": [
      "<class 'pandas.core.frame.DataFrame'>\n",
      "RangeIndex: 101 entries, 0 to 100\n",
      "Data columns (total 11 columns):\n",
      " #   Column                                        Non-Null Count  Dtype  \n",
      "---  ------                                        --------------  -----  \n",
      " 0   Timestamp                                     101 non-null    object \n",
      " 1   Choose your gender                            101 non-null    object \n",
      " 2   Age                                           100 non-null    float64\n",
      " 3   What is your course?                          101 non-null    object \n",
      " 4   Your current year of Study                    101 non-null    object \n",
      " 5   What is your CGPA?                            101 non-null    object \n",
      " 6   Marital status                                101 non-null    object \n",
      " 7   Do you have Depression?                       101 non-null    object \n",
      " 8   Do you have Anxiety?                          101 non-null    object \n",
      " 9   Do you have Panic attack?                     101 non-null    object \n",
      " 10  Did you seek any specialist for a treatment?  101 non-null    object \n",
      "dtypes: float64(1), object(10)\n",
      "memory usage: 8.8+ KB\n"
     ]
    }
   ],
   "source": [
    "df.info() # age should not be a float"
   ]
  },
  {
   "cell_type": "code",
   "execution_count": 62,
   "metadata": {},
   "outputs": [
    {
     "data": {
      "text/html": [
       "<div>\n",
       "<style scoped>\n",
       "    .dataframe tbody tr th:only-of-type {\n",
       "        vertical-align: middle;\n",
       "    }\n",
       "\n",
       "    .dataframe tbody tr th {\n",
       "        vertical-align: top;\n",
       "    }\n",
       "\n",
       "    .dataframe thead th {\n",
       "        text-align: right;\n",
       "    }\n",
       "</style>\n",
       "<table border=\"1\" class=\"dataframe\">\n",
       "  <thead>\n",
       "    <tr style=\"text-align: right;\">\n",
       "      <th></th>\n",
       "      <th>Timestamp</th>\n",
       "      <th>Choose your gender</th>\n",
       "      <th>Age</th>\n",
       "      <th>What is your course?</th>\n",
       "      <th>Your current year of Study</th>\n",
       "      <th>What is your CGPA?</th>\n",
       "      <th>Marital status</th>\n",
       "      <th>Do you have Depression?</th>\n",
       "      <th>Do you have Anxiety?</th>\n",
       "      <th>Do you have Panic attack?</th>\n",
       "      <th>Did you seek any specialist for a treatment?</th>\n",
       "    </tr>\n",
       "  </thead>\n",
       "  <tbody>\n",
       "    <tr>\n",
       "      <th>43</th>\n",
       "      <td>8/7/2020 15:07</td>\n",
       "      <td>Male</td>\n",
       "      <td>NaN</td>\n",
       "      <td>BIT</td>\n",
       "      <td>year 1</td>\n",
       "      <td>0 - 1.99</td>\n",
       "      <td>No</td>\n",
       "      <td>No</td>\n",
       "      <td>No</td>\n",
       "      <td>No</td>\n",
       "      <td>No</td>\n",
       "    </tr>\n",
       "  </tbody>\n",
       "</table>\n",
       "</div>"
      ],
      "text/plain": [
       "         Timestamp Choose your gender  Age What is your course?  \\\n",
       "43  8/7/2020 15:07               Male  NaN                  BIT   \n",
       "\n",
       "   Your current year of Study What is your CGPA? Marital status  \\\n",
       "43                     year 1           0 - 1.99             No   \n",
       "\n",
       "   Do you have Depression? Do you have Anxiety? Do you have Panic attack?  \\\n",
       "43                      No                   No                        No   \n",
       "\n",
       "   Did you seek any specialist for a treatment?  \n",
       "43                                           No  "
      ]
     },
     "execution_count": 62,
     "metadata": {},
     "output_type": "execute_result"
    }
   ],
   "source": [
    "# check for rows that have missing values\n",
    "null_data = df[df.isnull().any(axis=1)]\n",
    "null_data\n",
    "\n",
    "#gpa mistake? too low to get into university"
   ]
  },
  {
   "cell_type": "code",
   "execution_count": 63,
   "metadata": {},
   "outputs": [
    {
     "data": {
      "text/plain": [
       "Do you have Anxiety?\n",
       "No     67\n",
       "Yes    34\n",
       "Name: count, dtype: int64"
      ]
     },
     "execution_count": 63,
     "metadata": {},
     "output_type": "execute_result"
    }
   ],
   "source": [
    "# plot individual variables to further explore data\n",
    "anxiety = df['Do you have Anxiety?'].value_counts()\n",
    "anxiety"
   ]
  },
  {
   "cell_type": "code",
   "execution_count": 64,
   "metadata": {},
   "outputs": [
    {
     "data": {
      "image/png": "[encoded data removed]",
      "text/plain": [
       "<Figure size 640x480 with 1 Axes>"
      ]
     },
     "metadata": {},
     "output_type": "display_data"
    }
   ],
   "source": [
    "anxiety.plot(kind='bar')\n",
    "plt.gca().invert_xaxis()\n",
    "plt.xlabel('Anxiety')\n",
    "plt.ylabel('Students')\n",
    "plt.title(\"Number of students with anxiety\")\n",
    "plt.savefig(\"anxiety in students\")"
   ]
  },
  {
   "cell_type": "code",
   "execution_count": 65,
   "metadata": {},
   "outputs": [
    {
     "name": "stdout",
     "output_type": "stream",
     "text": [
      "               Timestamp Choose your gender   Age What is your course?  \\\n",
      "0         8/7/2020 12:02             Female  18.0          engineering   \n",
      "1         8/7/2020 12:04               Male  21.0    islamic education   \n",
      "2         8/7/2020 12:05               Male  19.0                  bit   \n",
      "3         8/7/2020 12:06             Female  22.0                 laws   \n",
      "4         8/7/2020 12:13               Male  23.0         mathemathics   \n",
      "..                   ...                ...   ...                  ...   \n",
      "96   13/07/2020 19:56:49             Female  21.0                  bcs   \n",
      "97   13/07/2020 21:21:42               Male  18.0          engineering   \n",
      "98   13/07/2020 21:22:56             Female  19.0             nursing    \n",
      "99   13/07/2020 21:23:57             Female  23.0     pendidikan islam   \n",
      "100  18/07/2020 20:16:21               Male  20.0   biomedical science   \n",
      "\n",
      "    Your current year of Study What is your CGPA? Marital status  \\\n",
      "0                       year 1        3.00 - 3.49             No   \n",
      "1                       year 2        3.00 - 3.49             No   \n",
      "2                       Year 1        3.00 - 3.49             No   \n",
      "3                       year 3        3.00 - 3.49            Yes   \n",
      "4                       year 4        3.00 - 3.49             No   \n",
      "..                         ...                ...            ...   \n",
      "96                      year 1        3.50 - 4.00             No   \n",
      "97                      Year 2        3.00 - 3.49             No   \n",
      "98                      Year 3        3.50 - 4.00            Yes   \n",
      "99                      year 4        3.50 - 4.00             No   \n",
      "100                     Year 2        3.00 - 3.49             No   \n",
      "\n",
      "    Do you have Depression? Do you have Anxiety? Do you have Panic attack?  \\\n",
      "0                       Yes                   No                       Yes   \n",
      "1                        No                  Yes                        No   \n",
      "2                       Yes                  Yes                       Yes   \n",
      "3                       Yes                   No                        No   \n",
      "4                        No                   No                        No   \n",
      "..                      ...                  ...                       ...   \n",
      "96                       No                  Yes                        No   \n",
      "97                      Yes                  Yes                        No   \n",
      "98                      Yes                   No                       Yes   \n",
      "99                       No                   No                        No   \n",
      "100                      No                   No                        No   \n",
      "\n",
      "    Did you seek any specialist for a treatment?  \n",
      "0                                             No  \n",
      "1                                             No  \n",
      "2                                             No  \n",
      "3                                             No  \n",
      "4                                             No  \n",
      "..                                           ...  \n",
      "96                                            No  \n",
      "97                                            No  \n",
      "98                                            No  \n",
      "99                                            No  \n",
      "100                                           No  \n",
      "\n",
      "[101 rows x 11 columns]\n"
     ]
    }
   ],
   "source": [
    "# convert all courses to lower case\n",
    "df['What is your course?'] = df['What is your course?'].str.lower()\n",
    "print(df)"
   ]
  },
  {
   "cell_type": "code",
   "execution_count": 66,
   "metadata": {},
   "outputs": [
    {
     "data": {
      "text/plain": [
       "42"
      ]
     },
     "execution_count": 66,
     "metadata": {},
     "output_type": "execute_result"
    }
   ],
   "source": [
    "# number of unique courses lowered to 42\n",
    "df['What is your course?'].nunique()"
   ]
  },
  {
   "cell_type": "code",
   "execution_count": 67,
   "metadata": {},
   "outputs": [
    {
     "data": {
      "text/plain": [
       "Do you have Depression?\n",
       "No     66\n",
       "Yes    35\n",
       "Name: count, dtype: int64"
      ]
     },
     "execution_count": 67,
     "metadata": {},
     "output_type": "execute_result"
    }
   ],
   "source": [
    "# check other health variables if show similar trend\n",
    "depression = df['Do you have Depression?'].value_counts()\n",
    "depression"
   ]
  },
  {
   "cell_type": "code",
   "execution_count": 68,
   "metadata": {},
   "outputs": [
    {
     "data": {
      "text/plain": [
       "Do you have Panic attack?\n",
       "No     68\n",
       "Yes    33\n",
       "Name: count, dtype: int64"
      ]
     },
     "execution_count": 68,
     "metadata": {},
     "output_type": "execute_result"
    }
   ],
   "source": [
    "panic = df['Do you have Panic attack?'].value_counts()\n",
    "panic"
   ]
  },
  {
   "cell_type": "code",
   "execution_count": 69,
   "metadata": {},
   "outputs": [
    {
     "name": "stdout",
     "output_type": "stream",
     "text": [
      "['engineering' 'islamic education' 'bit' 'laws' 'mathemathics'\n",
      " 'pendidikan islam' 'bcs' 'human resources' 'irkhs' 'psychology' 'kenms'\n",
      " 'accounting ' 'enm' 'marine science' 'koe' 'banking studies'\n",
      " 'business administration' 'law' 'kirkhs' 'usuluddin ' 'taasl' 'engine'\n",
      " 'ala' 'biomedical science' 'benl' 'it' 'cts' 'engin' 'econs' 'mhsc'\n",
      " 'malcom' 'kop' 'human sciences ' 'biotechnology' 'communication '\n",
      " 'diploma nursing' 'pendidikan islam ' 'radiography' 'fiqh fatwa '\n",
      " 'diploma tesl' 'fiqh' 'nursing ']\n"
     ]
    }
   ],
   "source": [
    "print(df['What is your course?'].unique())"
   ]
  },
  {
   "cell_type": "code",
   "execution_count": 70,
   "metadata": {},
   "outputs": [],
   "source": [
    "# data seems to be consistent\n",
    "# next try to split data into two categories - technical vs non technincal subjects - how to go about this? \n",
    "# need to use all subjects?\n",
    "# need to add more subjects to these lists, not large enough sample size\n",
    "technical_list = ['bcs','engineering','bit','mathemathics','biomedical science','biotechnology','engin']\n",
    "non_technical_list = ['islamic education', 'pendidikan islam', 'pendidikan islam ', 'fiqh fatwa ', 'fiqh', 'human resources',\n",
    "                      'irkhs', 'business', 'communication ', 'psychology']\n"
   ]
  },
  {
   "cell_type": "code",
   "execution_count": 71,
   "metadata": {},
   "outputs": [
    {
     "name": "stdout",
     "output_type": "stream",
     "text": [
      "<class 'pandas.core.frame.DataFrame'>\n",
      "Index: 52 entries, 0 to 100\n",
      "Data columns (total 11 columns):\n",
      " #   Column                                        Non-Null Count  Dtype  \n",
      "---  ------                                        --------------  -----  \n",
      " 0   Timestamp                                     52 non-null     object \n",
      " 1   Choose your gender                            52 non-null     object \n",
      " 2   Age                                           51 non-null     float64\n",
      " 3   What is your course?                          52 non-null     object \n",
      " 4   Your current year of Study                    52 non-null     object \n",
      " 5   What is your CGPA?                            52 non-null     object \n",
      " 6   Marital status                                52 non-null     object \n",
      " 7   Do you have Depression?                       52 non-null     object \n",
      " 8   Do you have Anxiety?                          52 non-null     object \n",
      " 9   Do you have Panic attack?                     52 non-null     object \n",
      " 10  Did you seek any specialist for a treatment?  52 non-null     object \n",
      "dtypes: float64(1), object(10)\n",
      "memory usage: 4.9+ KB\n"
     ]
    }
   ],
   "source": [
    "tech_sub = df[df['What is your course?'].isin(technical_list)]\n",
    "tech_sub\n",
    "tech_sub.info()"
   ]
  },
  {
   "cell_type": "code",
   "execution_count": 72,
   "metadata": {},
   "outputs": [
    {
     "name": "stdout",
     "output_type": "stream",
     "text": [
      "<class 'pandas.core.frame.DataFrame'>\n",
      "Index: 13 entries, 1 to 99\n",
      "Data columns (total 11 columns):\n",
      " #   Column                                        Non-Null Count  Dtype  \n",
      "---  ------                                        --------------  -----  \n",
      " 0   Timestamp                                     13 non-null     object \n",
      " 1   Choose your gender                            13 non-null     object \n",
      " 2   Age                                           13 non-null     float64\n",
      " 3   What is your course?                          13 non-null     object \n",
      " 4   Your current year of Study                    13 non-null     object \n",
      " 5   What is your CGPA?                            13 non-null     object \n",
      " 6   Marital status                                13 non-null     object \n",
      " 7   Do you have Depression?                       13 non-null     object \n",
      " 8   Do you have Anxiety?                          13 non-null     object \n",
      " 9   Do you have Panic attack?                     13 non-null     object \n",
      " 10  Did you seek any specialist for a treatment?  13 non-null     object \n",
      "dtypes: float64(1), object(10)\n",
      "memory usage: 1.2+ KB\n"
     ]
    }
   ],
   "source": [
    "non_tech_sub = df[df['What is your course?'].isin(non_technical_list)]\n",
    "non_tech_sub\n",
    "non_tech_sub.info()"
   ]
  },
  {
   "cell_type": "code",
   "execution_count": 78,
   "metadata": {},
   "outputs": [
    {
     "data": {
      "image/png": "[encoded data removed]",
      "text/plain": [
       "<Figure size 640x480 with 1 Axes>"
      ]
     },
     "metadata": {},
     "output_type": "display_data"
    }
   ],
   "source": [
    "anxiety_tech = tech_sub['Do you have Anxiety?'].value_counts()\n",
    "anxiety_tech\n",
    "anxiety_tech.plot(kind='bar')\n",
    "plt.gca().invert_xaxis()\n",
    "plt.xlabel('Anxiety')\n",
    "plt.ylabel('Students')\n",
    "plt.title(\"Number of students with anxiety in technical subjects\")\n",
    "plt.savefig(\"anxiety in tech students\")"
   ]
  },
  {
   "cell_type": "code",
   "execution_count": 80,
   "metadata": {},
   "outputs": [
    {
     "data": {
      "image/png": "[encoded data removed]",
      "text/plain": [
       "<Figure size 640x480 with 1 Axes>"
      ]
     },
     "metadata": {},
     "output_type": "display_data"
    }
   ],
   "source": [
    "anxiety_non_tech = non_tech_sub['Do you have Anxiety?'].value_counts()\n",
    "anxiety_non_tech.plot(kind='bar')\n",
    "plt.gca().invert_xaxis()\n",
    "plt.xlabel('Anxiety')\n",
    "plt.ylabel('Students')\n",
    "plt.title(\"Number of students with anxiety in non-technical subjects\")\n",
    "plt.savefig(\"anxiety in non tech students\")"
   ]
  },
  {
   "cell_type": "code",
   "execution_count": null,
   "metadata": {},
   "outputs": [],
   "source": []
  }
 ],
 "metadata": {
  "kernelspec": {
   "display_name": "Python 3 (ipykernel)",
   "language": "python",
   "name": "python3"
  },
  "language_info": {
   "codemirror_mode": {
    "name": "ipython",
    "version": 3
   },
   "file_extension": ".py",
   "mimetype": "text/x-python",
   "name": "python",
   "nbconvert_exporter": "python",
   "pygments_lexer": "ipython3",
   "version": "3.12.7"
  }
 },
 "nbformat": 4,
 "nbformat_minor": 4
}
